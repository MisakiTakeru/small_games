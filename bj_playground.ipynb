{
 "cells": [
  {
   "cell_type": "code",
   "execution_count": 1,
   "metadata": {},
   "outputs": [],
   "source": [
    "from random import shuffle\n",
    "from IPython.display import clear_output"
   ]
  },
  {
   "cell_type": "code",
   "execution_count": 64,
   "metadata": {},
   "outputs": [],
   "source": [
    "def create_deck():\n",
    "    Deck = [2,3,4,5,6,7,8,9,10,'J','Q','K','A'] * 4\n",
    "    shuffle(Deck)\n",
    "    return Deck"
   ]
  },
  {
   "cell_type": "code",
   "execution_count": 68,
   "metadata": {},
   "outputs": [
    {
     "name": "stdout",
     "output_type": "stream",
     "text": [
      "[7, 9, 4, 7, 6, 8, 'A', 5, 3, 'Q', 6, 4, 4, 9, 3, 2, 6, 5, 'A', 'K', 10, 8, 'A', 2, 10, 8, 'K', 'K', 'Q', 'J', 2, 8, 'A', 3, 10, 9, 'J', 9, 6, 10, 'J', 5, 'J', 3, 'Q', 'K', 'Q', 7, 5, 2, 4, 7]\n",
      "52\n",
      "7\n",
      "9\n",
      "50\n"
     ]
    }
   ],
   "source": [
    "Deck = create_deck()\n",
    "print(Deck)\n",
    "print(len(Deck))\n",
    "card = Deck.pop(0)\n",
    "print(card)\n",
    "print(Deck.pop(0))\n",
    "print(len(Deck))"
   ]
  },
  {
   "cell_type": "code",
   "execution_count": 4,
   "metadata": {},
   "outputs": [],
   "source": [
    "# Function that pattern matches the string cards to values, and returns integers in the card value range.\n",
    "\n",
    "def card_match(card):\n",
    "    match card:\n",
    "        case n if (type(n) == int) and n < 12:\n",
    "            return n\n",
    "        case 'A':\n",
    "            return [1,11]\n",
    "        case 'K' | 'J' | 'Q':\n",
    "            return 10\n",
    "        case _:\n",
    "            print('unknown card given. Launch code activated. Abandon all hope')"
   ]
  },
  {
   "cell_type": "code",
   "execution_count": 69,
   "metadata": {},
   "outputs": [],
   "source": [
    "# A for fun card summation that handles 'A'.\n",
    "# Fun to implement recursively\n",
    "\n",
    "def card_sum(hand, sums = 0):\n",
    "    if hand == []:\n",
    "        return sums\n",
    "\n",
    "    card = card_match(hand[0])\n",
    "\n",
    "# In the case of an 'A' we have two possibilities, so we run the function\n",
    "# first with high value, and if it goes beyond 21, we use it's low value instead.\n",
    "\n",
    "    if type(card) == list:\n",
    "        simh = card_sum([card[1]] + hand[1::], sums)\n",
    "        if simh <= 21:\n",
    "            return simh\n",
    "        else:\n",
    "            siml = card_sum([card[0]] + hand[1::], sums)\n",
    "            return siml\n",
    "# recursively calls itself with the tail adding the first card in the list\n",
    "# to the sum.   \n",
    "    return card_sum(hand[1::], sums + card)\n",
    "\n"
   ]
  },
  {
   "cell_type": "code",
   "execution_count": 73,
   "metadata": {},
   "outputs": [
    {
     "name": "stdout",
     "output_type": "stream",
     "text": [
      "got: 19 expected: 19\n",
      "got: 19 expected: 19\n",
      "got: 21 expected: 21\n",
      "got: 21 expected: 21\n",
      "got: 14 expected: 14\n"
     ]
    }
   ],
   "source": [
    "hand = [5, 'A', 'A', 'Q', 'A', 'A']\n",
    "simphand = [5,4,'J']\n",
    "lowvalhand = [2,2,2,2,3,3,3,3,'A']\n",
    "smallhand = ['A','K']\n",
    "acehand = ['A', 'A', 'A', 'A']\n",
    "values = ([card_match(i) for i in hand])\n",
    "\n",
    "\n",
    "print('got:', card_sum(hand), 'expected:', 19)\n",
    "print('got:', card_sum(simphand),'expected:', 19)\n",
    "print('got:', card_sum(lowvalhand),'expected:', 21)\n",
    "print('got:', card_sum(smallhand),'expected:', 21)\n",
    "print('got:', card_sum(acehand),'expected:', 14)"
   ]
  },
  {
   "cell_type": "code",
   "execution_count": 74,
   "metadata": {},
   "outputs": [],
   "source": [
    "# A simple dealer that will always stand at soft 17 or higher.\n",
    "def dealer(hand, Deck, sums = 0):\n",
    "    if sums == 0:\n",
    "        hand_sum = card_sum(hand)\n",
    "    else:\n",
    "        hand_sum = sums\n",
    "    print(hand, hand_sum)\n",
    "    if hand_sum  < 17:\n",
    "        card = Deck.pop(0)\n",
    "        new_sums = card_sum([card], hand_sum)\n",
    "        new_hand = hand + [card]\n",
    "        return dealer(new_hand, Deck, new_sums)\n",
    "    elif hand_sum > 21:\n",
    "        return ['bust', hand, hand_sum]\n",
    "    else:\n",
    "        return ['stand', hand, hand_sum]\n"
   ]
  },
  {
   "cell_type": "code",
   "execution_count": 75,
   "metadata": {},
   "outputs": [
    {
     "name": "stdout",
     "output_type": "stream",
     "text": [
      "[5, 7] 12\n",
      "[5, 7, 4] 16\n",
      "[5, 7, 4, 7] 23\n"
     ]
    },
    {
     "data": {
      "text/plain": [
       "['bust', [5, 7, 4, 7], 23]"
      ]
     },
     "execution_count": 75,
     "metadata": {},
     "output_type": "execute_result"
    }
   ],
   "source": [
    "dhand = [5,7]\n",
    "dealer(dhand, Deck)"
   ]
  },
  {
   "cell_type": "code",
   "execution_count": 8,
   "metadata": {},
   "outputs": [],
   "source": [
    "# Game state\n",
    "# draw cards two for player, one hidden and one shown for dealer\n",
    "# player can choose an option, with extra possibilities first turn\n",
    "# player chooses actions until they either hit 21, stand or bust\n",
    "# Dealer turn to draw until equal to or above 17, but below 22 or hitting over 21\n",
    "# player and dealer compares cards and determines victor"
   ]
  },
  {
   "cell_type": "code",
   "execution_count": 91,
   "metadata": {},
   "outputs": [],
   "source": [
    "# Function for checking players hand cases, and for player actions: hit, stand, split, and close game.\n",
    "def player_turn(hand, sums, Deck, legal_split = True):\n",
    "    while True:\n",
    "        match sums:\n",
    "            case n if n == 21:\n",
    "                if len(hand) == 2:\n",
    "                    print('Your hand is: ', hand, sums)\n",
    "                    print('blackjack')\n",
    "                    state = 'blackjack'\n",
    "                    break\n",
    "                else:\n",
    "                    print('Your hand is: ', hand, sums)\n",
    "                    state = 'stand'\n",
    "                    break\n",
    "            case n if n > 21:\n",
    "                sums = card_sum(hand)\n",
    "                if sums > 21:\n",
    "                    print('Your hand is: ', hand, sums)\n",
    "                    print('bust')\n",
    "                    state = 'bust'\n",
    "                    break\n",
    "        \n",
    "        print('Your hand is: ', hand, sums)\n",
    "\n",
    "        if len(hand) == 2 and card_sum([hand[0]]) == card_sum([hand[1]]) and legal_split == True:\n",
    "            choice = input('Would you like to hit, stand, split or close? ')\n",
    "        else:\n",
    "            choice = input('Would you like to hit, stand or close? ')\n",
    "\n",
    "        match choice:\n",
    "            case 'hit':\n",
    "                hand = hand + [Deck.pop(0)]\n",
    "                sums = card_sum([hand[-1]], sums)\n",
    "            case 'stand':\n",
    "                state = 'stand'\n",
    "                break\n",
    "            case 'split':\n",
    "                if len(hand) == 2 and card_sum([hand[0]]) == card_sum([hand[1]]):\n",
    "                    if legal_split == True:\n",
    "                        hand1 = [hand[0], Deck.pop(0)]\n",
    "                        hand2 = [hand[1], Deck.pop(0)]\n",
    "                    \n",
    "                        print('First hand')\n",
    "                        hand1, sum1, state1, Deck = player_turn(hand1, card_sum(hand1), Deck, False)\n",
    "                    \n",
    "                        print('Second hand')\n",
    "                        hand2, sum2, state2, Deck = player_turn(hand2, card_sum(hand2), Deck, False)\n",
    "                    \n",
    "                        return [hand1,hand2], [sum1, sum2], [state1, state2], Deck\n",
    "                    else:\n",
    "                        print('You are only allowed to split once')\n",
    "                else:\n",
    "                    print('You can\\'t split as either you don\\'t have exactly 2 cards, or their values are not identical')\n",
    "            case 'close':\n",
    "                state = 'break'\n",
    "                break\n",
    "    return hand, sums, state, Deck\n",
    "\n",
    "def result(player_hand, player_sum, state, dealer_hand, dealer_sum, dealer_fate):\n",
    "    if state == 'bust':\n",
    "        print('You busted on', player_sum,', You lose')\n",
    "    elif state == 'blackjack':\n",
    "        if len(dealer_hand) == 2 and dealer_sum == 21:\n",
    "            print('Draw')\n",
    "        else:\n",
    "            print('You Win')\n",
    "    elif state == 'stand':\n",
    "        if dealer_fate == 'bust':\n",
    "            print('Dealer busted, you win')\n",
    "        elif dealer_fate == 'stand':\n",
    "            if len(dealer_hand) == 2 and dealer_sum == 21:\n",
    "                print('Dealer blackjack, you lose')\n",
    "            elif dealer_sum < player_sum:\n",
    "                print('dealer has:', dealer_sum,',you have:', player_sum)\n",
    "                print('You win')\n",
    "            elif dealer_sum > player_sum:\n",
    "                print('dealer has:', dealer_sum,',you have:', player_sum)\n",
    "                print('You lose')\n",
    "            else:\n",
    "                print('dealer has:', dealer_sum,',you have:', player_sum)\n",
    "                print('Draw')\n"
   ]
  },
  {
   "cell_type": "code",
   "execution_count": 92,
   "metadata": {},
   "outputs": [],
   "source": [
    "# The game function that actually runs the game. Allows for starting hands for player and dealer, and allows a starting deck\n",
    "# for testing scenarios.\n",
    "def game(player_hand = [], dealer_hand = [], Deck = create_deck()):\n",
    "    \n",
    "\n",
    "    if dealer_hand == []:\n",
    "        dealer_hand = [Deck.pop(0)]\n",
    "    dealer_sum = card_sum(dealer_hand)\n",
    "    \n",
    "    if player_hand == []:\n",
    "        player_hand = [Deck.pop(0),Deck.pop(0)]\n",
    "    player_sum = card_sum(player_hand)\n",
    "\n",
    "    state = None\n",
    "    play = True\n",
    "    gamerun = True\n",
    "\n",
    "# Gameplay loop consists of running the players turn, then the dealer, comparing their hands, and last asking if player\n",
    "# would like to play another round.\n",
    "\n",
    "    while play:\n",
    "\n",
    "        \n",
    "        if gamerun == True:\n",
    "            print('Dealer hand is: ', dealer_hand, dealer_sum)\n",
    "            \n",
    "            player_hand, player_sum, state, Deck = player_turn(player_hand, player_sum, Deck)\n",
    "        \n",
    "            if state == 'break':\n",
    "                break\n",
    "\n",
    "            dealer_fate, dealer_hand, dealer_sum = dealer(dealer_hand, Deck, dealer_sum)\n",
    "            \n",
    "            if type(player_hand[0]) == list:\n",
    "                print('Result for first hand is: ')\n",
    "                result(player_hand[0], player_sum[0], state[0], dealer_hand, dealer_sum, dealer_fate)\n",
    "                \n",
    "                print('Result for second hand is: ')\n",
    "                result(player_hand[1], player_sum[1], state[1], dealer_hand, dealer_sum, dealer_fate)\n",
    "            else:\n",
    "                result(player_hand, player_sum, state, dealer_hand, dealer_sum, dealer_fate)\n",
    "\n",
    "        gamerun = False\n",
    "        ans = input('Would you like to play another round? ')\n",
    "        match ans:\n",
    "            case 'yes':\n",
    "                clear_output()\n",
    "                Deck = create_deck()\n",
    "\n",
    "                player_hand = []\n",
    "                dealer_hand = []\n",
    "\n",
    "                dealer_hand = [Deck.pop(0)]\n",
    "                dealer_sum = card_sum(dealer_hand)\n",
    "                player_hand = [Deck.pop(0),Deck.pop(0)]\n",
    "                player_sum = card_sum(player_hand)\n",
    "                state = None\n",
    "                play = True\n",
    "                gamerun = True\n",
    "            case 'no':\n",
    "                play = False\n"
   ]
  },
  {
   "cell_type": "code",
   "execution_count": 93,
   "metadata": {},
   "outputs": [
    {
     "name": "stdout",
     "output_type": "stream",
     "text": [
      "Dealer hand is:  [5] 5\n",
      "Your hand is:  ['J', 5] 15\n",
      "Would you like to hit, stand or close? hit\n",
      "Your hand is:  ['J', 5, 2] 17\n",
      "Would you like to hit, stand or close? stand\n",
      "[5] 5\n",
      "[5, 2] 7\n",
      "[5, 2, 4] 11\n",
      "[5, 2, 4, 6] 17\n",
      "dealer has: 17 ,you have: 17\n",
      "Draw\n",
      "Would you like to play another round? no\n"
     ]
    }
   ],
   "source": [
    "game()"
   ]
  },
  {
   "cell_type": "code",
   "execution_count": null,
   "metadata": {},
   "outputs": [],
   "source": []
  },
  {
   "cell_type": "code",
   "execution_count": null,
   "metadata": {},
   "outputs": [],
   "source": []
  }
 ],
 "metadata": {
  "kernelspec": {
   "display_name": "Python 3 (ipykernel)",
   "language": "python",
   "name": "python3"
  },
  "language_info": {
   "codemirror_mode": {
    "name": "ipython",
    "version": 3
   },
   "file_extension": ".py",
   "mimetype": "text/x-python",
   "name": "python",
   "nbconvert_exporter": "python",
   "pygments_lexer": "ipython3",
   "version": "3.11.5"
  }
 },
 "nbformat": 4,
 "nbformat_minor": 2
}
